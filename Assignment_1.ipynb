{
  "nbformat": 4,
  "nbformat_minor": 0,
  "metadata": {
    "colab": {
      "provenance": [],
      "toc_visible": true,
      "authorship_tag": "ABX9TyMnIvjRI+jrNuw+bRytH+yk",
      "include_colab_link": true
    },
    "kernelspec": {
      "name": "python3",
      "display_name": "Python 3"
    },
    "language_info": {
      "name": "python"
    }
  },
  "cells": [
    {
      "cell_type": "markdown",
      "metadata": {
        "id": "view-in-github",
        "colab_type": "text"
      },
      "source": [
        "<a href=\"https://colab.research.google.com/github/SMahesh90/Machine-Learning/blob/main/Assignment_1.ipynb\" target=\"_parent\"><img src=\"https://colab.research.google.com/assets/colab-badge.svg\" alt=\"Open In Colab\"/></a>"
      ]
    },
    {
      "cell_type": "markdown",
      "source": [
        "1) Perform arithmetic operations on NumPy arrays."
      ],
      "metadata": {
        "id": "OXkeKQoHBjtm"
      }
    },
    {
      "cell_type": "code",
      "execution_count": 1,
      "metadata": {
        "colab": {
          "base_uri": "https://localhost:8080/"
        },
        "id": "ylMLpoQt8-Bu",
        "outputId": "e7cf71dd-3241-4729-8757-148f8ec91638"
      },
      "outputs": [
        {
          "output_type": "stream",
          "name": "stdout",
          "text": [
            "Addition:  [6 7 8]\n",
            "Subtraction:  [4 3 2]\n",
            "Division:  [5.         2.5        1.66666667]\n",
            "Multiplication:  [ 5 10 15]\n"
          ]
        }
      ],
      "source": [
        "import numpy as np\n",
        "\n",
        "#array using numpy\n",
        "a = np.array([1,2,3])\n",
        "\n",
        "print(\"Addition: \", a+5) #adding 5 to array\n",
        "print(\"Subtraction: \",5-a) #subtracting 5 from array\n",
        "print(\"Division: \",5/a) #dividing 5 from array\n",
        "print(\"Multiplication: \",5*a) #Multiplying 5 to array\n"
      ]
    },
    {
      "cell_type": "markdown",
      "source": [
        "2)Write a script to compute the mean and standard deviation of a NumPy array."
      ],
      "metadata": {
        "id": "kwrETMY-Bqn3"
      }
    },
    {
      "cell_type": "code",
      "source": [
        "m = np.mean(a) #mean\n",
        "print(\"Mean: \",m)\n",
        "\n",
        "sd = np.std(a) #standard deviation\n",
        "print(\"Standard deviation: \",sd)"
      ],
      "metadata": {
        "colab": {
          "base_uri": "https://localhost:8080/"
        },
        "id": "DANXeWwRBYRv",
        "outputId": "e5d2e3ba-f52b-49a7-c747-b8a1d0bc4174"
      },
      "execution_count": 2,
      "outputs": [
        {
          "output_type": "stream",
          "name": "stdout",
          "text": [
            "Mean:  2.0\n",
            "Standard deviation:  0.816496580927726\n"
          ]
        }
      ]
    },
    {
      "cell_type": "markdown",
      "source": [
        "3) Create a NumPy array of integers from 10 to 50 with a step size of 5."
      ],
      "metadata": {
        "id": "f1pLUn8kCfLM"
      }
    },
    {
      "cell_type": "code",
      "source": [
        "x = np.arange(10,50,5) #printing the number from 10 to 50 with step size of 5\n",
        "print(x)"
      ],
      "metadata": {
        "colab": {
          "base_uri": "https://localhost:8080/"
        },
        "id": "BFgC6RAgClH9",
        "outputId": "2c789c8a-2b0a-4d14-9655-7515d86f069b"
      },
      "execution_count": 7,
      "outputs": [
        {
          "output_type": "stream",
          "name": "stdout",
          "text": [
            "[10 15 20 25 30 35 40 45]\n"
          ]
        }
      ]
    },
    {
      "cell_type": "markdown",
      "source": [
        "4) Reshape the array into a 2x4 matrix."
      ],
      "metadata": {
        "id": "UrN0svopDdV5"
      }
    },
    {
      "cell_type": "code",
      "source": [
        "b = np.reshape(x,(2,4)) # reshaping the array to 2x4 array from x array\n",
        "print(b)"
      ],
      "metadata": {
        "colab": {
          "base_uri": "https://localhost:8080/"
        },
        "id": "DmFujQHaDhh3",
        "outputId": "a68e9f13-dcfd-4caf-9faa-bdd6c8315aca"
      },
      "execution_count": 8,
      "outputs": [
        {
          "output_type": "stream",
          "name": "stdout",
          "text": [
            "[[10 15 20 25]\n",
            " [30 35 40 45]]\n"
          ]
        }
      ]
    },
    {
      "cell_type": "markdown",
      "source": [
        "5)  Given the array arr = np.array([[1, 2, 3], [4, 5, 6], [7, 8, 9]]):\n",
        "\n",
        "    • Extract the sub-matrix containing the last two rows and first two columns.\n",
        "    • Replace all elements greater than 4 with 0.\n"
      ],
      "metadata": {
        "id": "Z3fm6PVGEWGc"
      }
    },
    {
      "cell_type": "code",
      "source": [
        "arr = np.array([[1,2,3],[4,5,6],[7,8,9]])\n",
        "\n",
        "y = arr[1:,:2]\n",
        "print(\"Original array: \",y) # array with last two rows and first two columns\n",
        "y[y > 4] = 0\n",
        "print(\"after replacing elements greater 4 with 0: \", y) #array with greater 4 repalcing with zeroes."
      ],
      "metadata": {
        "colab": {
          "base_uri": "https://localhost:8080/"
        },
        "id": "8LBc_gODEarj",
        "outputId": "d2a338c0-adf8-4a29-ac3e-4a45ff40900e"
      },
      "execution_count": 16,
      "outputs": [
        {
          "output_type": "stream",
          "name": "stdout",
          "text": [
            "Original array:  [[4 5]\n",
            " [7 8]]\n",
            "after replacing:  [[4 0]\n",
            " [0 0]]\n"
          ]
        }
      ]
    },
    {
      "cell_type": "markdown",
      "source": [
        "6)  Create two 1D arrays:\n",
        "\n",
        "• a = np.array([1, 2, 3])\n",
        "\n",
        "• b = np.array([4, 5, 6])\n",
        "\n",
        "• Perform element-wise addition, multiplication, and division."
      ],
      "metadata": {
        "id": "hQen6JRPH4xX"
      }
    },
    {
      "cell_type": "code",
      "source": [
        "a = np.array([1,2,3])\n",
        "b = np.array([4,5,6])\n",
        "\n",
        "print(\"addition: \", a+b) #adding the two arrays\n",
        "print(\"Division: \",a/b) #dividing the two arrays\n",
        "print(\"Multipliaction: \",a*b) #multiplying the two arrays"
      ],
      "metadata": {
        "colab": {
          "base_uri": "https://localhost:8080/"
        },
        "id": "dGmOIaT3IC_K",
        "outputId": "86cc6e51-3332-4289-a288-285b94d9761c"
      },
      "execution_count": 17,
      "outputs": [
        {
          "output_type": "stream",
          "name": "stdout",
          "text": [
            "addition:  [5 7 9]\n",
            "Division:  [0.25 0.4  0.5 ]\n",
            "Multipliaction:  [ 4 10 18]\n"
          ]
        }
      ]
    },
    {
      "cell_type": "markdown",
      "source": [
        "7) Create a random NumPy array of size (4, 4). Compute:\n",
        "\n",
        "• Mean of each column.\n",
        "\n",
        "• Maximum value of the entire array.\n",
        "\n",
        "• Sum of all elements."
      ],
      "metadata": {
        "id": "C1iGfsO4JRgq"
      }
    },
    {
      "cell_type": "code",
      "source": [
        "arr = np.random.random((4,4))\n",
        "print(\"Original array: \",arr) # prints the random values in 4x4 form\n",
        "\n",
        "mean = np.mean(arr)\n",
        "m = np.max(arr)\n",
        "s = np.sum(arr)\n",
        "print(\"mean:\",mean) #prints the mean values\n",
        "print(\"Maximum value: \",m) #prints the maximum value\n",
        "print(\"Sum of values: \",s) #prints the sum of values"
      ],
      "metadata": {
        "colab": {
          "base_uri": "https://localhost:8080/"
        },
        "id": "lC01_6MoJZJt",
        "outputId": "d7121603-db9f-4f88-903a-baae97952d2c"
      },
      "execution_count": 23,
      "outputs": [
        {
          "output_type": "stream",
          "name": "stdout",
          "text": [
            "Original array:  [[0.88757217 0.91205563 0.45450325 0.01669985]\n",
            " [0.32368269 0.66557646 0.35037102 0.07324361]\n",
            " [0.88725485 0.77603219 0.16334924 0.46046205]\n",
            " [0.57752698 0.39500336 0.86790004 0.80959838]]\n",
            "mean: 0.538801985826765\n",
            "Maximum value:  0.9120556327831907\n",
            "Sum of values:  8.62083177322824\n"
          ]
        }
      ]
    },
    {
      "cell_type": "markdown",
      "source": [
        "8) Given the array arr = np.array([1, 2, 3, 4]), add 10 to each element and multiply\n",
        "the result by 2."
      ],
      "metadata": {
        "id": "x78iEoWqLVez"
      }
    },
    {
      "cell_type": "code",
      "source": [
        "arr = np.array([1,2,3,4])\n",
        "\n",
        "res = arr+10  #adding 10 to elements\n",
        "\n",
        "res = res*2   #multiplying the elements with 2\n",
        "print(res)"
      ],
      "metadata": {
        "colab": {
          "base_uri": "https://localhost:8080/"
        },
        "id": "0WHbpJzlLaD7",
        "outputId": "6e94db6a-1c94-4d01-bf0a-b5b6f508cf81"
      },
      "execution_count": 25,
      "outputs": [
        {
          "output_type": "stream",
          "name": "stdout",
          "text": [
            "[22 24 26 28]\n"
          ]
        }
      ]
    },
    {
      "cell_type": "markdown",
      "source": [
        "9) Perform advanced slicing and indexing on a 3D array.\n",
        "Create a 3D NumPy array arr of shape (3, 4, 5) with random integers ranging from\n",
        "1 to 100. Perform the following:\n",
        "\n",
        "• Extract the second \"layer\" (i.e., the second 2D array) in the first dimension.\n",
        "\n",
        "• Extract the first two rows and the last three columns from each \"layer.\"\n",
        "\n",
        "• Replace all elements divisible by 3 with -1."
      ],
      "metadata": {
        "id": "9ngPNRy5MPLt"
      }
    },
    {
      "cell_type": "code",
      "source": [
        "arr = np.random.randint(1,100,(3,4,5))\n",
        "\n",
        "print(\" the second 2D array: \",arr[1]) #Extracting the second \"layer\"\n",
        "print(\"-----------------------------------\")\n",
        "\n",
        "# Extract the first two rows and the last three columns from each \"layer.\"\n",
        "print(arr[:,:2,-3:])\n",
        "\n",
        "print(\"-----------------------------------\")\n",
        "arr[arr%3 == 0] = -1\n",
        "\n",
        "print(\"all elements divisible by 3 replacing with -1: \", arr)"
      ],
      "metadata": {
        "colab": {
          "base_uri": "https://localhost:8080/"
        },
        "id": "HmKtybfAMa0D",
        "outputId": "414b7d37-7a12-4e65-cc23-9e7d08ff43c4"
      },
      "execution_count": 34,
      "outputs": [
        {
          "output_type": "stream",
          "name": "stdout",
          "text": [
            " the second 2D array:  [[56  7 56 45 78]\n",
            " [18 80 46 23 96]\n",
            " [17 45  5 23 71]\n",
            " [31 79 23 20 44]]\n",
            "-----------------------------------\n",
            "[[[90 10 49]\n",
            "  [36 14 82]]\n",
            "\n",
            " [[56 45 78]\n",
            "  [46 23 96]]\n",
            "\n",
            " [[98 94 22]\n",
            "  [35 88 51]]]\n",
            "-----------------------------------\n",
            "all elements divisible by 3 replacing with -1:  [[[65 19 -1 10 49]\n",
            "  [-1 68 -1 14 82]\n",
            "  [-1 -1 59 95 20]\n",
            "  [20 86 37 71 52]]\n",
            "\n",
            " [[56  7 56 -1 -1]\n",
            "  [-1 80 46 23 -1]\n",
            "  [17 -1  5 23 71]\n",
            "  [31 79 23 20 44]]\n",
            "\n",
            " [[94 55 98 94 22]\n",
            "  [-1 13 35 88 -1]\n",
            "  [-1 79 52 -1 -1]\n",
            "  [65 -1  8 -1 46]]]\n"
          ]
        }
      ]
    },
    {
      "cell_type": "markdown",
      "source": [
        "10)   Work with broadcasting and advanced operations in NumPy.\n",
        "Create a NumPy array arr of shape (3, 3) with random integers between  \n",
        "1 and 20. Perform the following:\n",
        "\n",
        "• Subtract the mean of each row from its respective elements (row-wise\n",
        "normalization).\n",
        "\n",
        "• Create a new array by squaring all the elements in arr.\n",
        "\n",
        "• Find the indices of the top 3 maximum values in the entire array."
      ],
      "metadata": {
        "id": "CAh00FNyMi8C"
      }
    },
    {
      "cell_type": "code",
      "source": [
        "arr = np.random.randint(1,20,(3,3))\n",
        "print(arr)\n",
        "\n",
        "newArr = np.square(arr)# squaring the array\n",
        "print(newArr)\n",
        "\n",
        "# subtracting the mean of each row from its respective elements (row-wise normalization)\n",
        "arr = arr - arr.mean(axis=1, keepdims=True)\n",
        "\n",
        "sortArr = np.sort(arr.flatten())# top 3 maximum values\n",
        "print(sortArr[-3:])"
      ],
      "metadata": {
        "colab": {
          "base_uri": "https://localhost:8080/"
        },
        "id": "6V7A3baRM6iS",
        "outputId": "a3800a63-9e8c-41ef-8017-0b171c1c29c1"
      },
      "execution_count": 28,
      "outputs": [
        {
          "output_type": "stream",
          "name": "stdout",
          "text": [
            "[[ 9 17  3]\n",
            " [10  5  5]\n",
            " [13  5 18]]\n",
            "[[ 81 289   9]\n",
            " [100  25  25]\n",
            " [169  25 324]]\n",
            "[3.33333333 6.         7.33333333]\n"
          ]
        }
      ]
    }
  ]
}