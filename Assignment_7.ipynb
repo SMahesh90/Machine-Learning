{
  "nbformat": 4,
  "nbformat_minor": 0,
  "metadata": {
    "colab": {
      "provenance": [],
      "authorship_tag": "ABX9TyPiOQ0n9n8HXG3964g+EqCv",
      "include_colab_link": true
    },
    "kernelspec": {
      "name": "python3",
      "display_name": "Python 3"
    },
    "language_info": {
      "name": "python"
    }
  },
  "cells": [
    {
      "cell_type": "markdown",
      "metadata": {
        "id": "view-in-github",
        "colab_type": "text"
      },
      "source": [
        "<a href=\"https://colab.research.google.com/github/SMahesh90/Machine-Learning/blob/main/Assignment_7.ipynb\" target=\"_parent\"><img src=\"https://colab.research.google.com/assets/colab-badge.svg\" alt=\"Open In Colab\"/></a>"
      ]
    },
    {
      "cell_type": "markdown",
      "source": [
        "##1) Build the following Classification models by picking a suitable dataset. Before training, analyze the data and preprocess it.\n",
        "• Logistic Regression model\n",
        "\n",
        "• Naïve Bayes model\n",
        "\n",
        "\n",
        "• KNN Model\n",
        "\n",
        "• Decision Tree  \n",
        "\n",
        "• Support Vector Classifier\n",
        "\n",
        "Report Accuracy, Precision, Recall, F1-Score on test data for all the above models."
      ],
      "metadata": {
        "id": "tQHkcktjTOAh"
      }
    },
    {
      "cell_type": "code",
      "execution_count": 1,
      "metadata": {
        "colab": {
          "base_uri": "https://localhost:8080/"
        },
        "id": "ALSShpwMnY1m",
        "outputId": "d3a404ad-b8a8-4a6c-b01d-ff5b6ac4785b"
      },
      "outputs": [
        {
          "output_type": "stream",
          "name": "stderr",
          "text": [
            "<ipython-input-1-5881b34fff92>:22: SettingWithCopyWarning: \n",
            "A value is trying to be set on a copy of a slice from a DataFrame.\n",
            "Try using .loc[row_indexer,col_indexer] = value instead\n",
            "\n",
            "See the caveats in the documentation: https://pandas.pydata.org/pandas-docs/stable/user_guide/indexing.html#returning-a-view-versus-a-copy\n",
            "  cleaned_data['High_Stay'] = (cleaned_data['Overnight stays (x\\xa01,000)'] > thresh).astype(int)\n",
            "<ipython-input-1-5881b34fff92>:32: SettingWithCopyWarning: \n",
            "A value is trying to be set on a copy of a slice from a DataFrame.\n",
            "Try using .loc[row_indexer,col_indexer] = value instead\n",
            "\n",
            "See the caveats in the documentation: https://pandas.pydata.org/pandas-docs/stable/user_guide/indexing.html#returning-a-view-versus-a-copy\n",
            "  X[col] = le.fit_transform(X[col])\n",
            "<ipython-input-1-5881b34fff92>:32: SettingWithCopyWarning: \n",
            "A value is trying to be set on a copy of a slice from a DataFrame.\n",
            "Try using .loc[row_indexer,col_indexer] = value instead\n",
            "\n",
            "See the caveats in the documentation: https://pandas.pydata.org/pandas-docs/stable/user_guide/indexing.html#returning-a-view-versus-a-copy\n",
            "  X[col] = le.fit_transform(X[col])\n"
          ]
        },
        {
          "output_type": "stream",
          "name": "stdout",
          "text": [
            "                 Model  Accuracy  Precision  Recall  F1-Score\n",
            "0  Logistic Regression  0.714286        1.0    0.50  0.666667\n",
            "1          Naive Bayes  1.000000        1.0    1.00  1.000000\n",
            "2                  KNN  1.000000        1.0    1.00  1.000000\n",
            "3        Decision Tree  1.000000        1.0    1.00  1.000000\n",
            "4                  SVC  0.571429        1.0    0.25  0.400000\n"
          ]
        }
      ],
      "source": [
        "import pandas as pd\n",
        "from sklearn.model_selection import train_test_split\n",
        "from sklearn.preprocessing import LabelEncoder, StandardScaler\n",
        "from sklearn.metrics import accuracy_score, precision_score, recall_score, f1_score\n",
        "from sklearn.linear_model import LogisticRegression\n",
        "from sklearn.naive_bayes import GaussianNB\n",
        "from sklearn.neighbors import KNeighborsClassifier\n",
        "from sklearn.tree import DecisionTreeClassifier\n",
        "from sklearn.svm import SVC\n",
        "\n",
        "hotel_data = pd.read_csv(\"/content/Hotel dataset.csv\")\n",
        "\n",
        "# Data Cleaning\n",
        "numeric_columns = ['Guests (x\\xa01,000)', 'Overnight stays (x\\xa01,000)']\n",
        "for col in numeric_columns:\n",
        "    hotel_data[col] = hotel_data[col].str.replace(',', '').astype(float)\n",
        "\n",
        "# Drop rows with missing values\n",
        "cleaned_data = hotel_data.dropna()\n",
        "\n",
        "thresh = cleaned_data['Overnight stays (x\\xa01,000)'].median()\n",
        "cleaned_data['High_Stay'] = (cleaned_data['Overnight stays (x\\xa01,000)'] > thresh).astype(int)\n",
        "\n",
        "# Select features and target\n",
        "X = cleaned_data[['Guests (x\\xa01,000)', 'Star rating', 'Regions']]\n",
        "y = cleaned_data['High_Stay']\n",
        "\n",
        "# Encode categorical variables\n",
        "label_encoders = {}\n",
        "for col in ['Star rating', 'Regions']:\n",
        "    le = LabelEncoder()\n",
        "    X[col] = le.fit_transform(X[col])\n",
        "    label_encoders[col] = le\n",
        "\n",
        "# Split the data into training and test sets\n",
        "X_train, X_test, y_train, y_test = train_test_split(X, y, test_size=0.2, random_state=42)\n",
        "\n",
        "# Standardize numerical features\n",
        "scaler = StandardScaler()\n",
        "X_train[['Guests (x\\xa01,000)']] = scaler.fit_transform(X_train[['Guests (x\\xa01,000)']])\n",
        "X_test[['Guests (x\\xa01,000)']] = scaler.transform(X_test[['Guests (x\\xa01,000)']])\n",
        "\n",
        "\n",
        "models = {\n",
        "    'Logistic Regression': LogisticRegression(),\n",
        "    'Naive Bayes': GaussianNB(),\n",
        "    'KNN': KNeighborsClassifier(),\n",
        "    'Decision Tree': DecisionTreeClassifier(),\n",
        "    'SVC': SVC()\n",
        "}\n",
        "\n",
        "\n",
        "results = []\n",
        "\n",
        "for model_name, model in models.items():\n",
        "    # Train the model\n",
        "    model.fit(X_train, y_train)\n",
        "\n",
        "    y_pred = model.predict(X_test)\n",
        "\n",
        "    # Calculate metrics\n",
        "    accuracy = accuracy_score(y_test, y_pred)\n",
        "    precision = precision_score(y_test, y_pred)\n",
        "    recall = recall_score(y_test, y_pred)\n",
        "    f1 = f1_score(y_test, y_pred)\n",
        "\n",
        "\n",
        "    results.append({\n",
        "        'Model': model_name,\n",
        "        'Accuracy': accuracy,\n",
        "        'Precision': precision,\n",
        "        'Recall': recall,\n",
        "        'F1-Score': f1\n",
        "    })\n",
        "\n",
        "# Convert results to a DataFrame for better readability\n",
        "results_df = pd.DataFrame(results)\n",
        "\n",
        "# Display the results\n",
        "print(results_df)\n"
      ]
    }
  ]
}